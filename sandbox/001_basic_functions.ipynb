{
 "cells": [
  {
   "cell_type": "markdown",
   "metadata": {},
   "source": [
    "# IT Grade functions"
   ]
  },
  {
   "cell_type": "code",
   "execution_count": 1,
   "metadata": {
    "execution": {
     "iopub.execute_input": "2022-05-30T09:54:39.844507Z",
     "iopub.status.busy": "2022-05-30T09:54:39.844507Z",
     "iopub.status.idle": "2022-05-30T09:54:40.520670Z",
     "shell.execute_reply": "2022-05-30T09:54:40.519729Z",
     "shell.execute_reply.started": "2022-05-30T09:54:39.844507Z"
    },
    "tags": []
   },
   "outputs": [],
   "source": [
    "import lgtoldes.itgrade as itgrade\n",
    "\n",
    "itg = itgrade.ITGrd()"
   ]
  },
  {
   "cell_type": "code",
   "execution_count": 2,
   "metadata": {
    "execution": {
     "iopub.execute_input": "2022-05-30T09:54:40.522672Z",
     "iopub.status.busy": "2022-05-30T09:54:40.522672Z",
     "iopub.status.idle": "2022-05-30T09:54:40.551959Z",
     "shell.execute_reply": "2022-05-30T09:54:40.550835Z",
     "shell.execute_reply.started": "2022-05-30T09:54:40.522672Z"
    }
   },
   "outputs": [
    {
     "data": {
      "text/plain": [
       "0.006"
      ]
     },
     "execution_count": 2,
     "metadata": {},
     "output_type": "execute_result"
    }
   ],
   "source": [
    "itg.getStdTolVal(9.0, 'IT5')"
   ]
  },
  {
   "cell_type": "code",
   "execution_count": 3,
   "metadata": {
    "execution": {
     "iopub.execute_input": "2022-05-30T09:54:40.554747Z",
     "iopub.status.busy": "2022-05-30T09:54:40.553747Z",
     "iopub.status.idle": "2022-05-30T09:54:40.567126Z",
     "shell.execute_reply": "2022-05-30T09:54:40.565633Z",
     "shell.execute_reply.started": "2022-05-30T09:54:40.553747Z"
    }
   },
   "outputs": [
    {
     "data": {
      "text/plain": [
       "(0.00020943951023931953, 0.0006666666666666666)"
      ]
     },
     "execution_count": 3,
     "metadata": {},
     "output_type": "execute_result"
    }
   ],
   "source": [
    "itg.getJntErr(9.0, 'IT5')\n"
   ]
  },
  {
   "cell_type": "markdown",
   "metadata": {},
   "source": [
    "# JT Model functions"
   ]
  },
  {
   "cell_type": "code",
   "execution_count": 4,
   "metadata": {
    "execution": {
     "iopub.execute_input": "2022-05-30T09:55:04.866268Z",
     "iopub.status.busy": "2022-05-30T09:55:04.865621Z",
     "iopub.status.idle": "2022-05-30T09:55:04.878934Z",
     "shell.execute_reply": "2022-05-30T09:55:04.877934Z",
     "shell.execute_reply.started": "2022-05-30T09:55:04.866268Z"
    },
    "tags": []
   },
   "outputs": [
    {
     "name": "stdout",
     "output_type": "stream",
     "text": [
      "{'name': 'Piston Model', 'itgrade': 'IT2', 'simtime': 100, 'errgeneration': 'manual', 'nodes': {'A': {'type': 'fixed', 'coord': [0, 0, 0]}, 'B': {'type': 'fixed', 'coord': [0, 0, -0.4]}, 'C': {'type': 'doublejoint', 'coord': [0, 0, -25.5]}, 'D': {'type': 'joint', 'coord': [0, 0, -146.5]}, 'E': {'type': 'joint', 'coord': [0, -48, -186]}}, 'frtype': 'plane', 'frrefpoint': 'A', 'tolerancechain': [{'node': 'B', 'nextnode': 'C'}, {'node': 'C', 'nextnode': 'D'}, {'node': 'D', 'nextnode': 'E'}, {'node': 'E', 'nextnode': 'A'}]}\n"
     ]
    }
   ],
   "source": [
    "import lgtoldes.jtmodel as jtmodel\n",
    "\n",
    "jtm = jtmodel.JTModelKinematic()"
   ]
  },
  {
   "cell_type": "code",
   "execution_count": 6,
   "metadata": {},
   "outputs": [
    {
     "name": "stdout",
     "output_type": "stream",
     "text": [
      "e:\\lgot\\lgtoldes\\sandbox\n"
     ]
    },
    {
     "ename": "FileNotFoundError",
     "evalue": "[Errno 2] No such file or directory: './src/lgtoldes/data/piston_model_v2.json'",
     "output_type": "error",
     "traceback": [
      "\u001b[1;31m---------------------------------------------------------------------------\u001b[0m",
      "\u001b[1;31mFileNotFoundError\u001b[0m                         Traceback (most recent call last)",
      "\u001b[1;32m~\\AppData\\Local\\Temp\\ipykernel_337444\\3851464030.py\u001b[0m in \u001b[0;36m<cell line: 1>\u001b[1;34m()\u001b[0m\n\u001b[1;32m----> 1\u001b[1;33m \u001b[0mjtm\u001b[0m \u001b[1;33m=\u001b[0m \u001b[0mjtmodel\u001b[0m\u001b[1;33m.\u001b[0m\u001b[0mJTModelKinematic\u001b[0m\u001b[1;33m(\u001b[0m\u001b[1;34m\"./src/lgtoldes/data/piston_model_v2.json\"\u001b[0m\u001b[1;33m)\u001b[0m\u001b[1;33m\u001b[0m\u001b[1;33m\u001b[0m\u001b[0m\n\u001b[0m",
      "\u001b[1;32me:\\lgot\\lgtoldes\\src\\lgtoldes\\jtmodel.py\u001b[0m in \u001b[0;36m__init__\u001b[1;34m(self, *args)\u001b[0m\n\u001b[0;32m     30\u001b[0m             \u001b[1;31m# self.f_json_path = args[0]\u001b[0m\u001b[1;33m\u001b[0m\u001b[1;33m\u001b[0m\u001b[0m\n\u001b[0;32m     31\u001b[0m             \u001b[1;31m# self.fti = resources.read_text(args[0])\u001b[0m\u001b[1;33m\u001b[0m\u001b[1;33m\u001b[0m\u001b[0m\n\u001b[1;32m---> 32\u001b[1;33m             \u001b[1;32mwith\u001b[0m \u001b[0mopen\u001b[0m\u001b[1;33m(\u001b[0m\u001b[0margs\u001b[0m\u001b[1;33m[\u001b[0m\u001b[1;36m0\u001b[0m\u001b[1;33m]\u001b[0m\u001b[1;33m,\u001b[0m \u001b[1;34m\"r\"\u001b[0m\u001b[1;33m)\u001b[0m \u001b[1;32mas\u001b[0m \u001b[0mf\u001b[0m\u001b[1;33m:\u001b[0m\u001b[1;33m\u001b[0m\u001b[1;33m\u001b[0m\u001b[0m\n\u001b[0m\u001b[0;32m     33\u001b[0m                 \u001b[0mself\u001b[0m\u001b[1;33m.\u001b[0m\u001b[0mjti\u001b[0m \u001b[1;33m=\u001b[0m \u001b[0mjson\u001b[0m\u001b[1;33m.\u001b[0m\u001b[0mload\u001b[0m\u001b[1;33m(\u001b[0m\u001b[0mf\u001b[0m\u001b[1;33m)\u001b[0m\u001b[1;33m\u001b[0m\u001b[1;33m\u001b[0m\u001b[0m\n\u001b[0;32m     34\u001b[0m \u001b[1;33m\u001b[0m\u001b[0m\n",
      "\u001b[1;31mFileNotFoundError\u001b[0m: [Errno 2] No such file or directory: './src/lgtoldes/data/piston_model_v2.json'"
     ]
    }
   ],
   "source": [
    "\n",
    "jtm = jtmodel.JTModelKinematic(\"../src/lgtoldes/data/piston_model_v2.json\")"
   ]
  }
 ],
 "metadata": {
  "interpreter": {
   "hash": "7304727212646dfdf585c84b6c26e220b0ad5a8d0efd44b5dc50fd7c17d27502"
  },
  "kernelspec": {
   "display_name": "Python 3 (ipykernel)",
   "language": "python",
   "name": "python3"
  },
  "language_info": {
   "codemirror_mode": {
    "name": "ipython",
    "version": 3
   },
   "file_extension": ".py",
   "mimetype": "text/x-python",
   "name": "python",
   "nbconvert_exporter": "python",
   "pygments_lexer": "ipython3",
   "version": "3.9.13"
  }
 },
 "nbformat": 4,
 "nbformat_minor": 4
}
