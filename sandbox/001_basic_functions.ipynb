{
 "cells": [
  {
   "cell_type": "markdown",
   "metadata": {},
   "source": [
    "# IT Grade functions"
   ]
  },
  {
   "cell_type": "code",
   "execution_count": 1,
   "metadata": {
    "execution": {
     "iopub.execute_input": "2022-06-07T17:18:25.165566Z",
     "iopub.status.busy": "2022-06-07T17:18:25.165209Z",
     "iopub.status.idle": "2022-06-07T17:18:25.821713Z",
     "shell.execute_reply": "2022-06-07T17:18:25.821713Z",
     "shell.execute_reply.started": "2022-06-07T17:18:25.165566Z"
    },
    "tags": []
   },
   "outputs": [],
   "source": [
    "import lgtoldes.itgrade as itgrade\n",
    "itg = itgrade.ITGrd()"
   ]
  },
  {
   "cell_type": "code",
   "execution_count": 2,
   "metadata": {
    "execution": {
     "iopub.execute_input": "2022-06-07T17:18:25.824714Z",
     "iopub.status.busy": "2022-06-07T17:18:25.824714Z",
     "iopub.status.idle": "2022-06-07T17:18:25.853714Z",
     "shell.execute_reply": "2022-06-07T17:18:25.852996Z",
     "shell.execute_reply.started": "2022-06-07T17:18:25.824714Z"
    }
   },
   "outputs": [
    {
     "data": {
      "text/plain": [
       "0.006"
      ]
     },
     "execution_count": 2,
     "metadata": {},
     "output_type": "execute_result"
    }
   ],
   "source": [
    "itg.getStdTolVal(9.0, 'IT5')"
   ]
  },
  {
   "cell_type": "code",
   "execution_count": 3,
   "metadata": {
    "execution": {
     "iopub.execute_input": "2022-06-07T17:18:25.857093Z",
     "iopub.status.busy": "2022-06-07T17:18:25.856715Z",
     "iopub.status.idle": "2022-06-07T17:18:25.869739Z",
     "shell.execute_reply": "2022-06-07T17:18:25.868773Z",
     "shell.execute_reply.started": "2022-06-07T17:18:25.857093Z"
    }
   },
   "outputs": [
    {
     "data": {
      "text/plain": [
       "(0.00020943951023931953, 0.0006666666666666666)"
      ]
     },
     "execution_count": 3,
     "metadata": {},
     "output_type": "execute_result"
    }
   ],
   "source": [
    "itg.getJntErr(9.0, 'IT5')\n"
   ]
  },
  {
   "cell_type": "markdown",
   "metadata": {},
   "source": [
    "# JT Model functions\n",
    "\n",
    "## JT Model IO functions"
   ]
  },
  {
   "cell_type": "code",
   "execution_count": 4,
   "metadata": {
    "execution": {
     "iopub.execute_input": "2022-06-07T17:18:25.871716Z",
     "iopub.status.busy": "2022-06-07T17:18:25.871716Z",
     "iopub.status.idle": "2022-06-07T17:18:25.900717Z",
     "shell.execute_reply": "2022-06-07T17:18:25.898714Z",
     "shell.execute_reply.started": "2022-06-07T17:18:25.871716Z"
    },
    "tags": []
   },
   "outputs": [
    {
     "name": "stderr",
     "output_type": "stream",
     "text": [
      "e:\\lgot\\lgtoldes\\src\\lgtoldes\\jtmodel.py:126: UserWarning: Warning: error generation type manual currently unsupported\n",
      "  warnings.warn(\"Warning: error generation type %s currently unsupported\" % self.jti['errgeneration'])\n"
     ]
    }
   ],
   "source": [
    "import lgtoldes.jtmodel as jtmodel\n",
    "\n",
    "jtm = jtmodel.JTModelKinematic()"
   ]
  },
  {
   "cell_type": "code",
   "execution_count": 5,
   "metadata": {
    "execution": {
     "iopub.execute_input": "2022-06-07T17:18:25.902827Z",
     "iopub.status.busy": "2022-06-07T17:18:25.901715Z",
     "iopub.status.idle": "2022-06-07T17:18:25.930712Z",
     "shell.execute_reply": "2022-06-07T17:18:25.929760Z",
     "shell.execute_reply.started": "2022-06-07T17:18:25.902827Z"
    }
   },
   "outputs": [],
   "source": [
    "\n",
    "jtm = jtmodel.JTModelKinematic(\"../src/lgtoldes/data/piston_model_v2.json\")"
   ]
  },
  {
   "cell_type": "code",
   "execution_count": 6,
   "metadata": {
    "execution": {
     "iopub.execute_input": "2022-06-07T17:18:25.932050Z",
     "iopub.status.busy": "2022-06-07T17:18:25.931712Z",
     "iopub.status.idle": "2022-06-07T17:18:25.945715Z",
     "shell.execute_reply": "2022-06-07T17:18:25.944765Z",
     "shell.execute_reply.started": "2022-06-07T17:18:25.932050Z"
    }
   },
   "outputs": [
    {
     "data": {
      "text/plain": [
       "'doublejoint'"
      ]
     },
     "execution_count": 6,
     "metadata": {},
     "output_type": "execute_result"
    }
   ],
   "source": [
    "k = jtm.jti['tolerancechain'][1]['node']\n",
    "jtm.jti['nodes'][k]['type']"
   ]
  },
  {
   "cell_type": "code",
   "execution_count": 7,
   "metadata": {
    "execution": {
     "iopub.execute_input": "2022-06-07T17:18:25.949716Z",
     "iopub.status.busy": "2022-06-07T17:18:25.949716Z",
     "iopub.status.idle": "2022-06-07T17:18:25.961146Z",
     "shell.execute_reply": "2022-06-07T17:18:25.959715Z",
     "shell.execute_reply.started": "2022-06-07T17:18:25.949716Z"
    },
    "tags": []
   },
   "outputs": [
    {
     "data": {
      "text/plain": [
       "array([[0, 0, 0, 0, 0, 0, 0, 0, 0, 0]], dtype=int8)"
      ]
     },
     "execution_count": 7,
     "metadata": {},
     "output_type": "execute_result"
    }
   ],
   "source": [
    "import numpy as np\n",
    "np.zeros((1,10), np.int8)\n"
   ]
  }
 ],
 "metadata": {
  "interpreter": {
   "hash": "7304727212646dfdf585c84b6c26e220b0ad5a8d0efd44b5dc50fd7c17d27502"
  },
  "kernelspec": {
   "display_name": "Python 3 (ipykernel)",
   "language": "python",
   "name": "python3"
  },
  "language_info": {
   "codemirror_mode": {
    "name": "ipython",
    "version": 3
   },
   "file_extension": ".py",
   "mimetype": "text/x-python",
   "name": "python",
   "nbconvert_exporter": "python",
   "pygments_lexer": "ipython3",
   "version": "3.9.13"
  }
 },
 "nbformat": 4,
 "nbformat_minor": 4
}
