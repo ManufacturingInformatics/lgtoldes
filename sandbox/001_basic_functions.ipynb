{
 "cells": [
  {
   "cell_type": "markdown",
   "metadata": {},
   "source": [
    "# IT Grade functions"
   ]
  },
  {
   "cell_type": "code",
   "execution_count": 1,
   "metadata": {
    "execution": {
     "iopub.execute_input": "2022-05-30T06:24:30.501951Z",
     "iopub.status.busy": "2022-05-30T06:24:30.501603Z",
     "iopub.status.idle": "2022-05-30T06:24:31.135585Z",
     "shell.execute_reply": "2022-05-30T06:24:31.134877Z",
     "shell.execute_reply.started": "2022-05-30T06:24:30.501951Z"
    },
    "tags": []
   },
   "outputs": [],
   "source": [
    "import lgtoldes.itgrade as itgrade\n",
    "\n",
    "itg = itgrade.ITGrd()"
   ]
  },
  {
   "cell_type": "code",
   "execution_count": 2,
   "metadata": {
    "execution": {
     "iopub.execute_input": "2022-05-30T06:24:31.137744Z",
     "iopub.status.busy": "2022-05-30T06:24:31.137744Z",
     "iopub.status.idle": "2022-05-30T06:24:31.165304Z",
     "shell.execute_reply": "2022-05-30T06:24:31.164337Z",
     "shell.execute_reply.started": "2022-05-30T06:24:31.137744Z"
    }
   },
   "outputs": [
    {
     "data": {
      "text/plain": [
       "0.006"
      ]
     },
     "execution_count": 2,
     "metadata": {},
     "output_type": "execute_result"
    }
   ],
   "source": [
    "itg.getStdTolVal(9.0, 'IT5')"
   ]
  },
  {
   "cell_type": "code",
   "execution_count": 3,
   "metadata": {
    "execution": {
     "iopub.execute_input": "2022-05-30T06:24:31.167300Z",
     "iopub.status.busy": "2022-05-30T06:24:31.166298Z",
     "iopub.status.idle": "2022-05-30T06:24:31.181298Z",
     "shell.execute_reply": "2022-05-30T06:24:31.179921Z",
     "shell.execute_reply.started": "2022-05-30T06:24:31.167300Z"
    }
   },
   "outputs": [
    {
     "data": {
      "text/plain": [
       "(0.00020943951023931953, 0.0006666666666666666)"
      ]
     },
     "execution_count": 3,
     "metadata": {},
     "output_type": "execute_result"
    }
   ],
   "source": [
    "itg.getJntErr(9.0, 'IT5')\n"
   ]
  },
  {
   "cell_type": "markdown",
   "metadata": {},
   "source": [
    "# JT Model functions"
   ]
  },
  {
   "cell_type": "code",
   "execution_count": 4,
   "metadata": {
    "execution": {
     "iopub.execute_input": "2022-05-30T06:24:31.183301Z",
     "iopub.status.busy": "2022-05-30T06:24:31.182300Z",
     "iopub.status.idle": "2022-05-30T06:24:31.547310Z",
     "shell.execute_reply": "2022-05-30T06:24:31.546333Z",
     "shell.execute_reply.started": "2022-05-30T06:24:31.183301Z"
    },
    "tags": []
   },
   "outputs": [
    {
     "ename": "TypeError",
     "evalue": "__init__() missing 1 required positional argument: 'json_filename'",
     "output_type": "error",
     "traceback": [
      "\u001b[1;31m---------------------------------------------------------------------------\u001b[0m",
      "\u001b[1;31mTypeError\u001b[0m                                 Traceback (most recent call last)",
      "\u001b[1;32m~\\AppData\\Local\\Temp\\ipykernel_229680\\1822502868.py\u001b[0m in \u001b[0;36m<cell line: 3>\u001b[1;34m()\u001b[0m\n\u001b[0;32m      1\u001b[0m \u001b[1;32mimport\u001b[0m \u001b[0mlgtoldes\u001b[0m\u001b[1;33m.\u001b[0m\u001b[0mjtmodel\u001b[0m \u001b[1;32mas\u001b[0m \u001b[0mjtmodel\u001b[0m\u001b[1;33m\u001b[0m\u001b[1;33m\u001b[0m\u001b[0m\n\u001b[0;32m      2\u001b[0m \u001b[1;33m\u001b[0m\u001b[0m\n\u001b[1;32m----> 3\u001b[1;33m \u001b[0mjtm\u001b[0m \u001b[1;33m=\u001b[0m \u001b[0mjtmodel\u001b[0m\u001b[1;33m.\u001b[0m\u001b[0mJTModelKinematic\u001b[0m\u001b[1;33m(\u001b[0m\u001b[1;33m)\u001b[0m\u001b[1;33m\u001b[0m\u001b[1;33m\u001b[0m\u001b[0m\n\u001b[0m\u001b[0;32m      4\u001b[0m \u001b[1;31m# jtm = jtmodel.JTModelKinematic(\"./data/piston_model_v2.json\")\u001b[0m\u001b[1;33m\u001b[0m\u001b[1;33m\u001b[0m\u001b[0m\n",
      "\u001b[1;31mTypeError\u001b[0m: __init__() missing 1 required positional argument: 'json_filename'"
     ]
    }
   ],
   "source": [
    "import lgtoldes.jtmodel as jtmodel\n",
    "\n",
    "jtm = jtmodel.JTModelKinematic()\n",
    "# jtm = jtmodel.JTModelKinematic(\"./data/piston_model_v2.json\")"
   ]
  }
 ],
 "metadata": {
  "interpreter": {
   "hash": "7304727212646dfdf585c84b6c26e220b0ad5a8d0efd44b5dc50fd7c17d27502"
  },
  "kernelspec": {
   "display_name": "Python 3 (ipykernel)",
   "language": "python",
   "name": "python3"
  },
  "language_info": {
   "codemirror_mode": {
    "name": "ipython",
    "version": 3
   },
   "file_extension": ".py",
   "mimetype": "text/x-python",
   "name": "python",
   "nbconvert_exporter": "python",
   "pygments_lexer": "ipython3",
   "version": "3.9.13"
  }
 },
 "nbformat": 4,
 "nbformat_minor": 4
}
