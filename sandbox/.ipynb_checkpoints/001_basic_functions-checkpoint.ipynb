{
 "cells": [
  {
   "cell_type": "markdown",
   "metadata": {},
   "source": [
    "# IT Grade functions"
   ]
  },
  {
   "cell_type": "code",
   "execution_count": 1,
   "metadata": {
    "execution": {
     "iopub.execute_input": "2022-06-07T15:02:30.634929Z",
     "iopub.status.busy": "2022-06-07T15:02:30.633490Z",
     "iopub.status.idle": "2022-06-07T15:02:32.045785Z",
     "shell.execute_reply": "2022-06-07T15:02:32.044671Z",
     "shell.execute_reply.started": "2022-06-07T15:02:30.634929Z"
    },
    "tags": []
   },
   "outputs": [],
   "source": [
    "import lgtoldes.itgrade as itgrade\n",
    "itg = itgrade.ITGrd()"
   ]
  },
  {
   "cell_type": "code",
   "execution_count": 2,
   "metadata": {
    "execution": {
     "iopub.execute_input": "2022-06-07T15:02:32.049673Z",
     "iopub.status.busy": "2022-06-07T15:02:32.048672Z",
     "iopub.status.idle": "2022-06-07T15:02:32.076455Z",
     "shell.execute_reply": "2022-06-07T15:02:32.075447Z",
     "shell.execute_reply.started": "2022-06-07T15:02:32.049673Z"
    }
   },
   "outputs": [
    {
     "data": {
      "text/plain": [
       "0.006"
      ]
     },
     "execution_count": 2,
     "metadata": {},
     "output_type": "execute_result"
    }
   ],
   "source": [
    "itg.getStdTolVal(9.0, 'IT5')"
   ]
  },
  {
   "cell_type": "code",
   "execution_count": 3,
   "metadata": {
    "execution": {
     "iopub.execute_input": "2022-06-07T15:02:32.080457Z",
     "iopub.status.busy": "2022-06-07T15:02:32.080457Z",
     "iopub.status.idle": "2022-06-07T15:02:32.097455Z",
     "shell.execute_reply": "2022-06-07T15:02:32.095457Z",
     "shell.execute_reply.started": "2022-06-07T15:02:32.080457Z"
    }
   },
   "outputs": [
    {
     "data": {
      "text/plain": [
       "(0.00020943951023931953, 0.0006666666666666666)"
      ]
     },
     "execution_count": 3,
     "metadata": {},
     "output_type": "execute_result"
    }
   ],
   "source": [
    "itg.getJntErr(9.0, 'IT5')\n"
   ]
  },
  {
   "cell_type": "markdown",
   "metadata": {},
   "source": [
    "# JT Model functions\n",
    "\n",
    "## JT Model IO functions"
   ]
  },
  {
   "cell_type": "code",
   "execution_count": 4,
   "metadata": {
    "execution": {
     "iopub.execute_input": "2022-06-07T15:02:32.100455Z",
     "iopub.status.busy": "2022-06-07T15:02:32.099457Z",
     "iopub.status.idle": "2022-06-07T15:02:32.137455Z",
     "shell.execute_reply": "2022-06-07T15:02:32.136454Z",
     "shell.execute_reply.started": "2022-06-07T15:02:32.100455Z"
    },
    "tags": []
   },
   "outputs": [],
   "source": [
    "import lgtoldes.jtmodel as jtmodel\n",
    "\n",
    "jtm = jtmodel.JTModelKinematic()"
   ]
  },
  {
   "cell_type": "code",
   "execution_count": 5,
   "metadata": {
    "execution": {
     "iopub.execute_input": "2022-06-07T15:02:32.142456Z",
     "iopub.status.busy": "2022-06-07T15:02:32.141457Z",
     "iopub.status.idle": "2022-06-07T15:02:32.150457Z",
     "shell.execute_reply": "2022-06-07T15:02:32.149458Z",
     "shell.execute_reply.started": "2022-06-07T15:02:32.142456Z"
    }
   },
   "outputs": [],
   "source": [
    "\n",
    "jtm = jtmodel.JTModelKinematic(\"../src/lgtoldes/data/piston_model_v2.json\")"
   ]
  },
  {
   "cell_type": "code",
   "execution_count": 6,
   "metadata": {
    "execution": {
     "iopub.execute_input": "2022-06-07T15:02:32.154455Z",
     "iopub.status.busy": "2022-06-07T15:02:32.153457Z",
     "iopub.status.idle": "2022-06-07T15:02:32.168458Z",
     "shell.execute_reply": "2022-06-07T15:02:32.167597Z",
     "shell.execute_reply.started": "2022-06-07T15:02:32.154455Z"
    }
   },
   "outputs": [
    {
     "data": {
      "text/plain": [
       "'doublejoint'"
      ]
     },
     "execution_count": 6,
     "metadata": {},
     "output_type": "execute_result"
    }
   ],
   "source": [
    "k = jtm.jti['tolerancechain'][1]['node']\n",
    "jtm.jti['nodes'][k]['type']"
   ]
  },
  {
   "cell_type": "code",
   "execution_count": 7,
   "metadata": {
    "execution": {
     "iopub.execute_input": "2022-06-07T15:02:32.175574Z",
     "iopub.status.busy": "2022-06-07T15:02:32.175574Z",
     "iopub.status.idle": "2022-06-07T15:02:32.186528Z",
     "shell.execute_reply": "2022-06-07T15:02:32.185516Z",
     "shell.execute_reply.started": "2022-06-07T15:02:32.175574Z"
    },
    "tags": []
   },
   "outputs": [
    {
     "data": {
      "text/plain": [
       "array([[0, 0, 0, 0, 0, 0, 0, 0, 0, 0]], dtype=int8)"
      ]
     },
     "execution_count": 7,
     "metadata": {},
     "output_type": "execute_result"
    }
   ],
   "source": [
    "import numpy as np\n",
    "np.zeros((1,10), np.int8)\n"
   ]
  }
 ],
 "metadata": {
  "interpreter": {
   "hash": "7304727212646dfdf585c84b6c26e220b0ad5a8d0efd44b5dc50fd7c17d27502"
  },
  "kernelspec": {
   "display_name": "Python 3 (ipykernel)",
   "language": "python",
   "name": "python3"
  },
  "language_info": {
   "codemirror_mode": {
    "name": "ipython",
    "version": 3
   },
   "file_extension": ".py",
   "mimetype": "text/x-python",
   "name": "python",
   "nbconvert_exporter": "python",
   "pygments_lexer": "ipython3",
   "version": "3.9.13"
  }
 },
 "nbformat": 4,
 "nbformat_minor": 4
}
