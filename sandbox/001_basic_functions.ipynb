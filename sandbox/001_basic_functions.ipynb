{
 "cells": [
  {
   "cell_type": "code",
   "execution_count": 4,
   "metadata": {
    "execution": {
     "iopub.execute_input": "2022-05-29T22:48:46.082371Z",
     "iopub.status.busy": "2022-05-29T22:48:46.082371Z",
     "iopub.status.idle": "2022-05-29T22:48:46.101045Z",
     "shell.execute_reply": "2022-05-29T22:48:46.100103Z",
     "shell.execute_reply.started": "2022-05-29T22:48:46.082371Z"
    },
    "tags": []
   },
   "outputs": [
    {
     "name": "stdout",
     "output_type": "stream",
     "text": [
      "e:\\lgot\\lgtoldes\\src\\lgtoldes\\ITGradeTable.csv\n"
     ]
    }
   ],
   "source": [
    "import lgtoldes.itgrade as itgrade\n",
    "\n",
    "itg = itgrade.ITGrd()\n",
    "# itgrade.ITGrd()"
   ]
  },
  {
   "cell_type": "code",
   "execution_count": null,
   "metadata": {},
   "outputs": [],
   "source": []
  },
  {
   "cell_type": "code",
   "execution_count": null,
   "metadata": {},
   "outputs": [],
   "source": []
  }
 ],
 "metadata": {
  "interpreter": {
   "hash": "7304727212646dfdf585c84b6c26e220b0ad5a8d0efd44b5dc50fd7c17d27502"
  },
  "kernelspec": {
   "display_name": "Python 3 (ipykernel)",
   "language": "python",
   "name": "python3"
  },
  "language_info": {
   "codemirror_mode": {
    "name": "ipython",
    "version": 3
   },
   "file_extension": ".py",
   "mimetype": "text/x-python",
   "name": "python",
   "nbconvert_exporter": "python",
   "pygments_lexer": "ipython3",
   "version": "3.9.13"
  }
 },
 "nbformat": 4,
 "nbformat_minor": 4
}
