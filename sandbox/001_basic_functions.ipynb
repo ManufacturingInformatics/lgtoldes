{
 "cells": [
  {
   "cell_type": "markdown",
   "metadata": {},
   "source": [
    "# IT Grade functions"
   ]
  },
  {
   "cell_type": "code",
   "execution_count": null,
   "metadata": {
    "execution": {
     "iopub.status.busy": "2022-06-07T17:18:25.165209Z"
    },
    "tags": []
   },
   "outputs": [],
   "source": [
    "import lgtoldes.itgrade as itgrade\n",
    "itg = itgrade.ITGrd()"
   ]
  },
  {
   "cell_type": "code",
   "execution_count": null,
   "metadata": {},
   "outputs": [],
   "source": [
    "itg.getStdTolVal(9.0, 'IT5')"
   ]
  },
  {
   "cell_type": "code",
   "execution_count": null,
   "metadata": {},
   "outputs": [],
   "source": [
    "itg.getJntErr(9.0, 'IT5')\n"
   ]
  },
  {
   "cell_type": "markdown",
   "metadata": {},
   "source": [
    "# JT Model functions\n",
    "\n",
    "## JT Model IO functions"
   ]
  },
  {
   "cell_type": "code",
   "execution_count": null,
   "metadata": {
    "tags": []
   },
   "outputs": [],
   "source": [
    "import lgtoldes.jtmodel as jtmodel\n",
    "\n",
    "jtm = jtmodel.JTModelKinematic()"
   ]
  },
  {
   "cell_type": "code",
   "execution_count": null,
   "metadata": {},
   "outputs": [],
   "source": [
    "\n",
    "jtm = jtmodel.JTModelKinematic(\"../src/lgtoldes/data/piston_model_v2.json\")"
   ]
  },
  {
   "cell_type": "code",
   "execution_count": null,
   "metadata": {},
   "outputs": [],
   "source": [
    "k = jtm.jti['tolerancechain'][1]['node']\n",
    "jtm.jti['nodes'][k]['type']"
   ]
  },
  {
   "cell_type": "code",
   "execution_count": null,
   "metadata": {
    "tags": []
   },
   "outputs": [],
   "source": [
    "import numpy as np\n",
    "np.zeros((1,10), np.int8)\n"
   ]
  }
 ],
 "metadata": {
  "interpreter": {
   "hash": "7304727212646dfdf585c84b6c26e220b0ad5a8d0efd44b5dc50fd7c17d27502"
  },
  "kernelspec": {
   "display_name": "Python 3 (ipykernel)",
   "language": "python",
   "name": "python3"
  },
  "language_info": {
   "codemirror_mode": {
    "name": "ipython",
    "version": 3
   },
   "file_extension": ".py",
   "mimetype": "text/x-python",
   "name": "python",
   "nbconvert_exporter": "python",
   "pygments_lexer": "ipython3",
   "version": "3.9.13"
  }
 },
 "nbformat": 4,
 "nbformat_minor": 4
}
